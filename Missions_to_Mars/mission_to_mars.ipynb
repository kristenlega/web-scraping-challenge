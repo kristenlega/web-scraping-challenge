{
 "cells": [
  {
   "cell_type": "code",
   "execution_count": 6,
   "metadata": {},
   "outputs": [],
   "source": [
    "from splinter import Browser\n",
    "from bs4 import BeautifulSoup\n",
    "from webdriver_manager.chrome import ChromeDriverManager\n",
    "import requests\n",
    "import pandas as pd\n",
    "from cachecontrol import CacheControl"
   ]
  },
  {
   "cell_type": "markdown",
   "metadata": {},
   "source": [
    "### NASA Mars Article"
   ]
  },
  {
   "cell_type": "code",
   "execution_count": 7,
   "metadata": {},
   "outputs": [],
   "source": [
    "url = 'https://mars.nasa.gov/news/?page=0&per_page=40&order=publish_date+desc%2Ccreated_at+desc&search=&category=19%2C165%2C184%2C204&blank_scope=Latest'\n",
    "\n",
    "sess = requests.session()\n",
    "cached_sess = CacheControl(sess)"
   ]
  },
  {
   "cell_type": "code",
   "execution_count": 8,
   "metadata": {},
   "outputs": [],
   "source": [
    "# Retrieve page with the requests module\n",
    "response = cached_sess.get(url, headers={\"Cache-Control\": \"no-cache\",\n",
    "    \"Pragma\": \"no-cache\"})\n",
    "# Create BeautifulSoup object; parse with 'html.parser'\n",
    "soup = BeautifulSoup(response.text, 'html.parser')"
   ]
  },
  {
   "cell_type": "code",
   "execution_count": 9,
   "metadata": {},
   "outputs": [
    {
     "data": {
      "text/plain": [
       "\"NASA's Perseverance Drives on Mars' Terrain for First Time\""
      ]
     },
     "execution_count": 9,
     "metadata": {},
     "output_type": "execute_result"
    }
   ],
   "source": [
    "# Parse the page for the \"content_title\" element\n",
    "news_title = soup.find('div', class_=\"content_title\").text.strip()\n",
    "news_title"
   ]
  },
  {
   "cell_type": "code",
   "execution_count": 10,
   "metadata": {},
   "outputs": [
    {
     "name": "stdout",
     "output_type": "stream",
     "text": [
      "\n",
      "The first trek of the agency’s largest, most advanced rover yet on the Red Planet marks a major milestone before science operations get under way.\n",
      "\n"
     ]
    }
   ],
   "source": [
    "# Parse the page for the \"article_teaser_body\" element\n",
    "news_paragraph = soup.find('div', class_=\"rollover_description_inner\").text\n",
    "print(news_paragraph)"
   ]
  },
  {
   "cell_type": "markdown",
   "metadata": {},
   "source": [
    "### JPL Mars Space Images"
   ]
  },
  {
   "cell_type": "code",
   "execution_count": null,
   "metadata": {},
   "outputs": [],
   "source": [
    "# Setup splinter\n",
    "executable_path = {'executable_path': ChromeDriverManager().install()}\n",
    "browser = Browser('chrome', **executable_path, headless=False)\n",
    "\n",
    "imageurl=\"https://data-class-jpl-space.s3.amazonaws.com/JPL_Space/index.html\"\n",
    "    \n",
    "browser.visit(imageurl)"
   ]
  },
  {
   "cell_type": "code",
   "execution_count": null,
   "metadata": {},
   "outputs": [],
   "source": [
    "html = browser.html\n",
    "imgsoup = BeautifulSoup(html, 'html.parser')"
   ]
  },
  {
   "cell_type": "code",
   "execution_count": null,
   "metadata": {},
   "outputs": [],
   "source": [
    "short_url = imgsoup.find('img', class_=\"headerimage fade-in\")\n",
    "short_url_clean = short_url['src']\n",
    "featured_image_url = f'https://data-class-jpl-space.s3.amazonaws.com/JPL_Space/{short_url_clean}'\n",
    "print(featured_image_url)"
   ]
  },
  {
   "cell_type": "markdown",
   "metadata": {},
   "source": [
    "### Mars Facts"
   ]
  },
  {
   "cell_type": "code",
   "execution_count": null,
   "metadata": {},
   "outputs": [],
   "source": [
    "factsurl=\"https://space-facts.com/mars/\""
   ]
  },
  {
   "cell_type": "code",
   "execution_count": null,
   "metadata": {},
   "outputs": [],
   "source": [
    "factstable = pd.read_html(factsurl)\n",
    "factstable[0].columns = ['Description','Mars']\n",
    "factstable[0].set_index(\"Description\",inplace=True)\n",
    "factstable[0]"
   ]
  },
  {
   "cell_type": "code",
   "execution_count": null,
   "metadata": {},
   "outputs": [],
   "source": [
    "factstable_html = factstable[0].to_html()\n",
    "factstable_html"
   ]
  },
  {
   "cell_type": "code",
   "execution_count": null,
   "metadata": {
    "scrolled": true
   },
   "outputs": [],
   "source": [
    "factstable_html.replace('\\n','')\n",
    "print(factstable_html)"
   ]
  },
  {
   "cell_type": "markdown",
   "metadata": {},
   "source": [
    "### Mars Hemispheres"
   ]
  },
  {
   "cell_type": "code",
   "execution_count": null,
   "metadata": {},
   "outputs": [],
   "source": [
    "hemi_url=\"https://astrogeology.usgs.gov/search/results?q=hemisphere+enhanced&k1=target&v1=Mars\"\n",
    "    \n",
    "browser.visit(hemi_url)\n",
    "html = browser.html\n",
    "hemisoup = BeautifulSoup(html, 'html.parser')"
   ]
  },
  {
   "cell_type": "code",
   "execution_count": null,
   "metadata": {},
   "outputs": [],
   "source": [
    "hemi_results = hemisoup.find(\"div\", class_=\"collapsible results\")\n",
    "hemi_items = hemi_results.find_all(\"div\", class_=\"item\")\n",
    "hemi_items[0]"
   ]
  },
  {
   "cell_type": "code",
   "execution_count": null,
   "metadata": {},
   "outputs": [],
   "source": [
    "hemisphere_image_urls = []\n",
    "\n",
    "# loop over results to get titles and urls\n",
    "for item in hemi_items:\n",
    "    # scrape the image title\n",
    "    description = item.find('div', class_='description')\n",
    "    title = description.find('h3').text\n",
    "    \n",
    "    # scrape the image url\n",
    "    hemi_page_url_short = item.a['href']\n",
    "    \n",
    "    browser.visit(f'https://astrogeology.usgs.gov{hemi_page_url_short}')\n",
    "    html = browser.html\n",
    "    soup = BeautifulSoup(html, 'html.parser')\n",
    "    downloads = soup.find(\"div\", class_=\"downloads\")\n",
    "    img_url = downloads.find('li').a['href']\n",
    "    \n",
    "    # Create Dictionary Element\n",
    "    hemi_dict = {\n",
    "        'title': title,\n",
    "        'img_url': img_url,\n",
    "    }\n",
    "\n",
    "    # Append to list\n",
    "    hemisphere_image_urls.append(hemi_dict)"
   ]
  },
  {
   "cell_type": "code",
   "execution_count": null,
   "metadata": {},
   "outputs": [],
   "source": [
    "hemisphere_image_urls"
   ]
  },
  {
   "cell_type": "code",
   "execution_count": null,
   "metadata": {},
   "outputs": [],
   "source": [
    "final_dict={\n",
    "    \"news_title\": news_title,\n",
    "    \"news_p\": news_p,\n",
    "    \"featured_image_url\":featured_image_url,\n",
    "    \"factstable_html\":factstable_html,\n",
    "    \"hemisphere_images\":hemisphere_image_urls\n",
    "}"
   ]
  },
  {
   "cell_type": "code",
   "execution_count": null,
   "metadata": {},
   "outputs": [],
   "source": [
    "final_dict"
   ]
  }
 ],
 "metadata": {
  "kernelspec": {
   "display_name": "Python 3",
   "language": "python",
   "name": "python3"
  },
  "language_info": {
   "codemirror_mode": {
    "name": "ipython",
    "version": 3
   },
   "file_extension": ".py",
   "mimetype": "text/x-python",
   "name": "python",
   "nbconvert_exporter": "python",
   "pygments_lexer": "ipython3",
   "version": "3.8.5"
  }
 },
 "nbformat": 4,
 "nbformat_minor": 4
}
